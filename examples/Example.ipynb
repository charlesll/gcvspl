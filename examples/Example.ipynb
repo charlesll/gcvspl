{
 "cells": [
  {
   "cell_type": "code",
   "execution_count": 1,
   "metadata": {},
   "outputs": [
    {
     "name": "stderr",
     "output_type": "stream",
     "text": [
      "┌ Info: Precompiling gcvspl [0df96c42-4702-4aad-9d07-874ea0467d1e]\n",
      "└ @ Base loading.jl:1278\n"
     ]
    }
   ],
   "source": [
    "using gcvspl, PyPlot, Random"
   ]
  },
  {
   "cell_type": "code",
   "execution_count": 2,
   "metadata": {},
   "outputs": [
    {
     "ename": "LoadError",
     "evalue": "MethodError: no method matching unsafe_convert(::Type{Ptr{Int32}}, ::Int64)\nClosest candidates are:\n  unsafe_convert(::Type{T}, !Matched::T) where T<:Ptr at essentials.jl:391\n  unsafe_convert(::Type{Ptr{T}}, !Matched::Ptr{Tuple{Vararg{T,N}}}) where {N, T} at refpointer.jl:136\n  unsafe_convert(::Type{P}, !Matched::Ptr) where P<:Ptr at essentials.jl:392\n  ...",
     "output_type": "error",
     "traceback": [
      "MethodError: no method matching unsafe_convert(::Type{Ptr{Int32}}, ::Int64)\nClosest candidates are:\n  unsafe_convert(::Type{T}, !Matched::T) where T<:Ptr at essentials.jl:391\n  unsafe_convert(::Type{Ptr{T}}, !Matched::Ptr{Tuple{Vararg{T,N}}}) where {N, T} at refpointer.jl:136\n  unsafe_convert(::Type{P}, !Matched::Ptr) where P<:Ptr at essentials.jl:392\n  ...",
      "",
      "Stacktrace:",
      " [1] gcvspl_julia(::Array{Float64,1}, ::Array{Float64,1}, ::Array{Float64,1}, ::Float64; SplineOrder::Int32, SplineMode::Int32) at /media/charles/DATA/Documents/gcvspl/src/gcvspl.jl:114",
      " [2] top-level scope at In[2]:10",
      " [3] include_string(::Function, ::Module, ::String, ::String) at ./loading.jl:1091",
      " [4] execute_code(::String, ::String) at /home/charles/.julia/packages/IJulia/rWZ9e/src/execute_request.jl:27",
      " [5] execute_request(::ZMQ.Socket, ::IJulia.Msg) at /home/charles/.julia/packages/IJulia/rWZ9e/src/execute_request.jl:86",
      " [6] #invokelatest#1 at ./essentials.jl:710 [inlined]",
      " [7] invokelatest at ./essentials.jl:709 [inlined]",
      " [8] eventloop(::ZMQ.Socket) at /home/charles/.julia/packages/IJulia/rWZ9e/src/eventloop.jl:8",
      " [9] (::IJulia.var\"#15#18\")() at ./task.jl:356"
     ]
    }
   ],
   "source": [
    "x = collect(0.:1:100)\n",
    "y = 2*x\n",
    "ese = 3*randn(size(x))\n",
    "y_obs = y+ese\n",
    "plot(x,y_obs)\n",
    "\n",
    "spline_coeff = 0.1\n",
    "SplOrder = 3\n",
    "\n",
    "c, WK, IER = gcvspl.gcvspl_julia(x,y_obs,ese,spline_coeff;SplineOrder = Int32(SplOrder-1)) # with cubic spline as the default\n",
    "y_calc_sc = gcvspl.splderivative_julia(x,x,c,SplineOrder= Int32(SplOrder-1))"
   ]
  },
  {
   "cell_type": "code",
   "execution_count": null,
   "metadata": {},
   "outputs": [],
   "source": []
  }
 ],
 "metadata": {
  "kernelspec": {
   "display_name": "Julia 1.5.2",
   "language": "julia",
   "name": "julia-1.5"
  },
  "language_info": {
   "file_extension": ".jl",
   "mimetype": "application/julia",
   "name": "julia",
   "version": "1.5.2"
  }
 },
 "nbformat": 4,
 "nbformat_minor": 1
}
